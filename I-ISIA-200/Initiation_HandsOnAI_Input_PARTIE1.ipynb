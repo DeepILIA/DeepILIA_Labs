{
  "nbformat": 4,
  "nbformat_minor": 0,
  "metadata": {
    "colab": {
      "provenance": []
    },
    "kernelspec": {
      "name": "python3",
      "display_name": "Python 3"
    },
    "accelerator": "GPU"
  },
  "cells": [
    {
      "cell_type": "markdown",
      "source": [
        "# **1. Traitement d'images avec Python et OpenCV**\n",
        "\n",
        "\n",
        "*   Ajouter la possibilité de télécharger un fichier via Google Colab (Image par exemple)\n",
        "*   Faire des opérations sur une image\n",
        "*   Remarque : au cas ou le chargement ne fonctionne pas :  changer le paremètre Googlechrome : chrome://settings/content/cookies and turn off \"block third-party cookies\""
      ],
      "metadata": {
        "id": "OmI4SiMcgVca"
      }
    },
    {
      "cell_type": "markdown",
      "metadata": {
        "id": "HdEBWGEtzj2W"
      },
      "source": [
        "# **Instruction 1.1. : Chargement les librairies**"
      ]
    },
    {
      "cell_type": "code",
      "metadata": {
        "id": "ePBj3P-hziq7"
      },
      "source": [
        "import cv2\n",
        "import os\n",
        "from google.colab import files\n",
        "from matplotlib import pyplot as plt\n",
        "from IPython.display import Image\n",
        "from IPython.display import HTML\n",
        "from base64 import b64encode\n",
        "import numpy as np\n",
        "import glob\n",
        "import imageio\n",
        "import numpy as np\n",
        "import matplotlib.pyplot as plt\n",
        "print(cv2.__version__)"
      ],
      "execution_count": null,
      "outputs": []
    },
    {
      "cell_type": "markdown",
      "metadata": {
        "id": "kRyKypA5CVAr"
      },
      "source": [
        "## **Instruction 1.2. : Chargement des images à traiter**"
      ]
    },
    {
      "cell_type": "code",
      "metadata": {
        "id": "8iefCe65XQWC"
      },
      "source": [
        "files.upload()"
      ],
      "execution_count": null,
      "outputs": []
    },
    {
      "cell_type": "markdown",
      "metadata": {
        "id": "ZnSaCAsiXgRA"
      },
      "source": [
        "## **Instruction 1.3. : Afficher le contenu du dossier actuel**\n"
      ]
    },
    {
      "cell_type": "code",
      "metadata": {
        "id": "oTtVURYLXsd0",
        "colab": {
          "base_uri": "https://localhost:8080/",
          "height": 69
        },
        "outputId": "0565de25-6e67-420f-b43f-11b744c1e72c"
      },
      "source": [
        "!ls -l"
      ],
      "execution_count": null,
      "outputs": [
        {
          "output_type": "stream",
          "text": [
            "total 160\n",
            "drwxr-xr-x 1 root root   4096 Sep 16 16:29 sample_data\n",
            "-rw-r--r-- 1 root root 159087 Sep 25 22:56 umons2.jpg\n"
          ],
          "name": "stdout"
        }
      ]
    },
    {
      "cell_type": "markdown",
      "metadata": {
        "id": "Urk-9tbbYCDw"
      },
      "source": [
        "## **Question 1.1. : Afficher l'image téléchargée au format rgb**"
      ]
    },
    {
      "cell_type": "code",
      "metadata": {
        "id": "YiYLvOJ5Dm-f"
      },
      "source": [
        "img = cv2.imread('#########.jpg', 3) #3 pour charger l'image en couleur, 1 en noir et blanc\n",
        "b,g,r=cv2.split(img)\n",
        "rgb_image = cv2.merge([r,g,b])\n",
        "plt.imshow(rgb_image)"
      ],
      "execution_count": null,
      "outputs": []
    },
    {
      "cell_type": "markdown",
      "metadata": {
        "id": "4yefSNlR9Gu6"
      },
      "source": [
        "##  **Question 1.2. : Un autre moyen pour afficher l'image**\n",
        "\n",
        "\n",
        "\n",
        "\n",
        "\n"
      ]
    },
    {
      "cell_type": "code",
      "metadata": {
        "id": "Dq4xUBioY0mt"
      },
      "source": [
        "Image(filename='########.jpg',width=400, height=250)"
      ],
      "execution_count": null,
      "outputs": []
    },
    {
      "cell_type": "markdown",
      "metadata": {
        "id": "iEQqzwQjZ1An"
      },
      "source": [
        "#**Instruction 1.4. : Convertir en niveau de gris, sauvegarder et afficher**\n"
      ]
    },
    {
      "cell_type": "code",
      "metadata": {
        "id": "yFDFHsQSaAl8"
      },
      "source": [
        "gray = cv2.cvtColor(img, cv2.COLOR_RGB2GRAY)\n",
        "cv2.imwrite('saved.png',gray)\n",
        "plt.imshow(gray,  cmap='gray')"
      ],
      "execution_count": null,
      "outputs": []
    },
    {
      "cell_type": "markdown",
      "metadata": {
        "id": "CKFgL4ik5qsl"
      },
      "source": [
        "#**Question 1.3. : Vérifier si l'image est bien enregistrée**"
      ]
    },
    {
      "cell_type": "code",
      "metadata": {
        "id": "1bDV0R045SwI"
      },
      "source": [
        "# A compléter ..."
      ],
      "execution_count": null,
      "outputs": []
    },
    {
      "cell_type": "markdown",
      "metadata": {
        "id": "qHQ7nhyPGF6I"
      },
      "source": [
        "#**Instruction 1.5. : Tester la convolution avec fitre Gaussien via différentes tailles de filtres**"
      ]
    },
    {
      "cell_type": "code",
      "metadata": {
        "id": "Hc-_ZYNhGRzp"
      },
      "source": [
        "gauss = cv2.GaussianBlur(rgb_image,(21,21), 0)\n",
        "plt.imshow(gauss)"
      ],
      "execution_count": null,
      "outputs": []
    },
    {
      "cell_type": "markdown",
      "source": [
        "Question 1.4. : Vérifier si l'image est bien enregistrée"
      ],
      "metadata": {
        "id": "-wuweg2blyWf"
      }
    },
    {
      "cell_type": "code",
      "source": [
        "# A compléter ..."
      ],
      "metadata": {
        "id": "RlzS0Kr3l0nT"
      },
      "execution_count": null,
      "outputs": []
    },
    {
      "cell_type": "markdown",
      "metadata": {
        "id": "x5r5Xb_h6ziL"
      },
      "source": [
        "#**Question 1.5. : Appliquer des filtres à partir de la même image**\n",
        "\n",
        "---\n",
        "\n"
      ]
    },
    {
      "cell_type": "code",
      "metadata": {
        "id": "v964Z4w4nw8b"
      },
      "source": [
        "gauss1 = # A compléter ...                           # Filtre Gaussien un filtre de taille (3,3)\n",
        "gauss2 = # A compléter ...                           # Filtre Gaussien un filtre de taille (15,15)\n",
        "median1 = cv2.medianBlur(gray,3)                     # Filtre Médian un filtre de taille (3,3)\n",
        "median2 = # A compléter ...                          # Filtre Médian un filtre de taille (21,21)\n",
        "bilateral = cv2.bilateralFilter(gray,21,75,75)       # Filtre Bilatéral un filtre de taille (3,3)\n",
        "Sobelx = cv2.Sobel(gray,cv2.CV_64F,1,0,ksize=5)      # Filtre Sobel horizontal de taille (5,5)\n",
        "Sobely = # A compléter ...                           # Filtre Sobel vertical de taille (5,5)\n",
        "Canny = cv2.Canny(gray,100,200)                      # Filtre Canny"
      ],
      "execution_count": null,
      "outputs": []
    },
    {
      "cell_type": "markdown",
      "metadata": {
        "id": "CgjUPTJ2WFka"
      },
      "source": [
        "#**Question 1.6. : Appliquer le filtre Prewitt à partir da la saisie de ces deux filtres**"
      ]
    },
    {
      "cell_type": "code",
      "metadata": {
        "id": "RvTNhELWWJL7"
      },
      "source": [
        "#Filtre de Prewitt\n",
        "kernelx = np.array(############################)\n",
        "kernely = np.array(############################)\n",
        "Prewittx = cv2.filter2D(gray, -1, #############)\n",
        "Prewitty = cv2.filter2D(gray, -1, #############)"
      ],
      "execution_count": null,
      "outputs": []
    },
    {
      "cell_type": "markdown",
      "metadata": {
        "id": "K1ycgC77dGhe"
      },
      "source": [
        "#**Instruction 1.7. : Affichage des images résulantes**"
      ]
    },
    {
      "cell_type": "code",
      "metadata": {
        "id": "zMVxoIwIIl4g"
      },
      "source": [
        "axes=[]\n",
        "fig=plt.figure()\n",
        "fig = plt.figure(figsize=(18,8))\n",
        "\n",
        "axes.append(fig.add_subplot(3, 5, 3) )\n",
        "axes[-1].set_title(\"Input Image\")\n",
        "plt.imshow(rgb_image)\n",
        "axes.append(fig.add_subplot(3, 5, 6) )\n",
        "axes[-1].set_title(\"conv1:gauss3\")\n",
        "plt.imshow(gauss1, cmap='gray', vmin=0, vmax=255)\n",
        "axes.append(fig.add_subplot(3, 5, 7) )\n",
        "axes[-1].set_title(\"conv2:gauss15\")\n",
        "plt.imshow(gauss2, cmap='gray', vmin=0, vmax=255)\n",
        "axes.append(fig.add_subplot(3, 5, 8) )\n",
        "axes[-1].set_title(\"conv3:median3\")\n",
        "plt.imshow(median1, cmap='gray', vmin=0, vmax=255)\n",
        "axes.append(fig.add_subplot(3, 5, 9) )\n",
        "axes[-1].set_title(\"conv4:median21\")\n",
        "plt.imshow(median2, cmap='gray', vmin=0, vmax=255)\n",
        "axes.append(fig.add_subplot(3, 5, 10) )\n",
        "axes[-1].set_title(\"conv5:bilateral\")\n",
        "plt.imshow(bilateral, cmap='gray', vmin=0, vmax=255)\n",
        "axes.append(fig.add_subplot(3, 5, 11) )\n",
        "axes[-1].set_title(\"conv6:Sobelx\")\n",
        "plt.imshow(Sobelx, cmap='gray', vmin=0, vmax=255)\n",
        "axes.append(fig.add_subplot(3, 5, 12) )\n",
        "axes[-1].set_title(\"conv7:Sobely\")\n",
        "plt.imshow(Sobely, cmap='gray', vmin=0, vmax=255)\n",
        "axes.append(fig.add_subplot(3, 5, 13) )\n",
        "axes[-1].set_title(\"conv8:Canny:\")\n",
        "plt.imshow(Canny, cmap='gray', vmin=0, vmax=255)\n",
        "axes.append(fig.add_subplot(3, 5, 14) )\n",
        "axes[-1].set_title(\"conv9:Prewittx\")\n",
        "plt.imshow(Prewittx, cmap='gray', vmin=0, vmax=255)\n",
        "axes.append(fig.add_subplot(3, 5, 15) )\n",
        "axes[-1].set_title(\"conv10:Prewitty\")\n",
        "plt.imshow(Prewitty, cmap='gray', vmin=0, vmax=255)\n",
        "plt.show()"
      ],
      "execution_count": null,
      "outputs": []
    },
    {
      "cell_type": "markdown",
      "metadata": {
        "id": "yek9W8H2Kt9W"
      },
      "source": [
        "#**EXERCICE 01**"
      ]
    },
    {
      "cell_type": "code",
      "metadata": {
        "id": "oUJdhM7TKgVS"
      },
      "source": [
        "# A compléter ..."
      ],
      "execution_count": null,
      "outputs": []
    }
  ]
}